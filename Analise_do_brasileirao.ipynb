{
 "cells": [
  {
   "cell_type": "markdown",
   "id": "d1f5a797",
   "metadata": {},
   "source": [
    "#### Motivo para o notebook existir\n",
    "\n",
    "Será feita uma uma análise sobre exploratória, e alguns tratamentos de dados para uma base do Brasileirão encontrada no Kaggle. A exploração/transformação dos dados será em Spark, e o objetivo é aplicar conceitos básicos da ferramenta em algo descontraído/divertido.\n",
    "\n",
    "Base de dados original:\\\n",
    "https://www.kaggle.com/datasets/ricardomattos05/brazilian-soccer-database?resource=download&select=Brazilian_Cup_Matches.csv\n"
   ]
  },
  {
   "cell_type": "markdown",
   "id": "abf6b5f3",
   "metadata": {},
   "source": [
    "#### Campeonato Brasileiro de Futebol\n",
    "\n",
    "O Campeonato Brasileiro de Futebol, também conhecido como Campeonato Brasileiro, Brasileirão e Série A, é a liga brasileira de futebol profissional entre clubes do Brasil, sendo a principal competição futebolística no país. É por meio dela que são indicados os representantes brasileiros para a Copa Libertadores da América (juntamente com o campeão da Copa do Brasil)."
   ]
  },
  {
   "cell_type": "markdown",
   "id": "6d976cef",
   "metadata": {},
   "source": [
    "----"
   ]
  },
  {
   "cell_type": "markdown",
   "id": "b0a22271",
   "metadata": {},
   "source": [
    "#### Importando as libs para começar a brincadeira\n"
   ]
  },
  {
   "cell_type": "code",
   "execution_count": 1,
   "id": "f3ed12ae",
   "metadata": {},
   "outputs": [],
   "source": [
    "import os\n",
    "os.environ[\"SPARK_HOME\"] = \"C:\\Spark\\spark-3.2.1-bin-hadoop2.7\""
   ]
  },
  {
   "cell_type": "code",
   "execution_count": 2,
   "id": "f7ae0ac3",
   "metadata": {},
   "outputs": [],
   "source": [
    "import findspark\n",
    "findspark.init()"
   ]
  },
  {
   "cell_type": "code",
   "execution_count": 3,
   "id": "ce8e1ce9",
   "metadata": {},
   "outputs": [],
   "source": [
    "from pyspark.sql import SparkSession #Toda sessão de spark precisa conter uma spark session\n",
    "from pyspark.sql.types import * #Para poder trabalhar nos tipos dos arquivos\n",
    "from pyspark.sql import functions as f #importando todas as funções\n",
    "from pyspark.sql.types import IntegerType"
   ]
  },
  {
   "cell_type": "markdown",
   "id": "c24e062c",
   "metadata": {},
   "source": [
    "---"
   ]
  },
  {
   "cell_type": "markdown",
   "id": "a0b49466",
   "metadata": {},
   "source": [
    "#### Criando uma Spark Session \n"
   ]
  },
  {
   "cell_type": "code",
   "execution_count": 4,
   "id": "0d7b53ff",
   "metadata": {},
   "outputs": [
    {
     "data": {
      "text/html": [
       "\n",
       "            <div>\n",
       "                <p><b>SparkSession - in-memory</b></p>\n",
       "                \n",
       "        <div>\n",
       "            <p><b>SparkContext</b></p>\n",
       "\n",
       "            <p><a href=\"http://host.docker.internal:4040\">Spark UI</a></p>\n",
       "\n",
       "            <dl>\n",
       "              <dt>Version</dt>\n",
       "                <dd><code>v3.2.1</code></dd>\n",
       "              <dt>Master</dt>\n",
       "                <dd><code>local[*]</code></dd>\n",
       "              <dt>AppName</dt>\n",
       "                <dd><code>Análise brasileirão</code></dd>\n",
       "            </dl>\n",
       "        </div>\n",
       "        \n",
       "            </div>\n",
       "        "
      ],
      "text/plain": [
       "<pyspark.sql.session.SparkSession at 0x1bf29124a90>"
      ]
     },
     "execution_count": 4,
     "metadata": {},
     "output_type": "execute_result"
    }
   ],
   "source": [
    "spark = SparkSession.builder.master('local[*]')\\\n",
    "    .appName(\"Análise brasileirão\")\\\n",
    "    .getOrCreate()\n",
    "\n",
    "spark"
   ]
  },
  {
   "cell_type": "markdown",
   "id": "bc07e532",
   "metadata": {},
   "source": [
    "#### Carregando os dados"
   ]
  },
  {
   "cell_type": "code",
   "execution_count": 5,
   "id": "a1256833",
   "metadata": {},
   "outputs": [
    {
     "name": "stdout",
     "output_type": "stream",
     "text": [
      "+-------------------+----------------+---------------+----------------+---------------+---------+---------+------+-----+\n",
      "|datetime           |home_team       |home_team_state|away_team       |away_team_state|home_goal|away_goal|season|round|\n",
      "+-------------------+----------------+---------------+----------------+---------------+---------+---------+------+-----+\n",
      "|2012-05-19 18:30:00|Palmeiras-SP    |SP             |Portuguesa-SP   |SP             |1        |1        |2012  |1    |\n",
      "|2012-05-19 18:30:00|Sport-PE        |PE             |Flamengo-RJ     |RJ             |1        |1        |2012  |1    |\n",
      "|2012-05-19 21:00:00|Figueirense-SC  |SC             |Nautico-PE      |PE             |2        |1        |2012  |1    |\n",
      "|2012-05-20 16:00:00|Ponte Preta-SP  |SP             |Atletico-MG     |MG             |0        |1        |2012  |1    |\n",
      "|2012-05-20 16:00:00|Corinthians-SP  |SP             |Fluminense-RJ   |RJ             |0        |1        |2012  |1    |\n",
      "|2012-05-20 16:00:00|Botafogo-RJ     |RJ             |Sao Paulo-SP    |SP             |4        |2        |2012  |1    |\n",
      "|2012-05-20 16:00:00|Internacional-RS|RS             |Coritiba-PR     |PR             |2        |0        |2012  |1    |\n",
      "|2012-05-20 18:30:00|Vasco da Gama-RJ|RJ             |Gremio-RS       |RS             |2        |1        |2012  |1    |\n",
      "|2012-05-20 18:30:00|Bahia-BA        |BA             |Santos-SP       |SP             |0        |0        |2012  |1    |\n",
      "|2012-05-20 18:30:00|Cruzeiro-MG     |MG             |Atletico-GO     |GO             |0        |0        |2012  |1    |\n",
      "|2012-05-26 18:30:00|Atletico-GO     |GO             |Ponte Preta-SP  |SP             |1        |1        |2012  |2    |\n",
      "|2012-05-26 18:30:00|Flamengo-RJ     |RJ             |Internacional-RS|RS             |3        |3        |2012  |2    |\n",
      "|2012-05-26 18:30:00|Portuguesa-SP   |SP             |Vasco da Gama-RJ|RJ             |0        |1        |2012  |2    |\n",
      "|2012-05-26 21:00:00|Nautico-PE      |PE             |Cruzeiro-MG     |MG             |0        |0        |2012  |2    |\n",
      "|2012-05-27 16:00:00|Santos-SP       |SP             |Sport-PE        |PE             |0        |0        |2012  |2    |\n",
      "|2012-05-27 16:00:00|Atletico-MG     |MG             |Corinthians-SP  |SP             |1        |0        |2012  |2    |\n",
      "|2012-05-27 16:00:00|Coritiba-PR     |PR             |Botafogo-RJ     |RJ             |2        |3        |2012  |2    |\n",
      "|2012-05-27 16:00:00|Sao Paulo-SP    |SP             |Bahia-BA        |BA             |1        |0        |2012  |2    |\n",
      "|2012-05-27 18:30:00|Gremio-RS       |RS             |Palmeiras-SP    |SP             |1        |0        |2012  |2    |\n",
      "|2012-05-27 18:30:00|Fluminense-RJ   |RJ             |Figueirense-SC  |SC             |2        |2        |2012  |2    |\n",
      "+-------------------+----------------+---------------+----------------+---------------+---------+---------+------+-----+\n",
      "only showing top 20 rows\n",
      "\n"
     ]
    }
   ],
   "source": [
    "df = spark.read.csv(\"Brasileirao_Matches.csv\", encoding='utf-8',\\\n",
    "    header=True,inferSchema=True)\n",
    "\n",
    "#dispaly the data:\n",
    "df.show(truncate=False)"
   ]
  },
  {
   "cell_type": "markdown",
   "id": "77eb4f83",
   "metadata": {},
   "source": [
    "#### Limpeza dos dados"
   ]
  },
  {
   "cell_type": "code",
   "execution_count": 6,
   "id": "7d34063c",
   "metadata": {},
   "outputs": [
    {
     "name": "stdout",
     "output_type": "stream",
     "text": [
      "root\n",
      " |-- datetime: string (nullable = true)\n",
      " |-- home_team: string (nullable = true)\n",
      " |-- home_team_state: string (nullable = true)\n",
      " |-- away_team: string (nullable = true)\n",
      " |-- away_team_state: string (nullable = true)\n",
      " |-- home_goal: string (nullable = true)\n",
      " |-- away_goal: string (nullable = true)\n",
      " |-- season: integer (nullable = true)\n",
      " |-- round: integer (nullable = true)\n",
      "\n"
     ]
    }
   ],
   "source": [
    "df.printSchema()"
   ]
  },
  {
   "cell_type": "code",
   "execution_count": 7,
   "id": "6b47109f",
   "metadata": {},
   "outputs": [
    {
     "name": "stdout",
     "output_type": "stream",
     "text": [
      "+--------+---------+---------------+---------+---------------+---------+---------+------+-----+\n",
      "|datetime|home_team|home_team_state|away_team|away_team_state|home_goal|away_goal|season|round|\n",
      "+--------+---------+---------------+---------+---------------+---------+---------+------+-----+\n",
      "|       0|        0|              0|        0|              0|        0|        0|     0|    0|\n",
      "+--------+---------+---------------+---------+---------------+---------+---------+------+-----+\n",
      "\n"
     ]
    }
   ],
   "source": [
    "#Descobrindo os valores nulos na base\n",
    "\n",
    "df.select([f.count(f.when(f.isnan(c) | f.col(c).isNull(), c)).alias(c) for c in df.columns]\n",
    "   ).show()"
   ]
  },
  {
   "cell_type": "code",
   "execution_count": 25,
   "id": "246a99a3",
   "metadata": {},
   "outputs": [],
   "source": [
    "#criando um hash\n",
    "df = df.withColumn('hash_id', f.sha2(f.col('home_team'), 256))"
   ]
  },
  {
   "cell_type": "markdown",
   "id": "00c1881c",
   "metadata": {},
   "source": [
    "Pontos que precisam de atenção:\n",
    "- datetime está como string: Precisa ser tratado para date\n",
    "- home_goal e away_goal:Estão como Strings, mas na são números inteiros"
   ]
  },
  {
   "cell_type": "code",
   "execution_count": 9,
   "id": "5f143343",
   "metadata": {},
   "outputs": [],
   "source": [
    "# Colocando cada tipo no seu lugar\n",
    "brasileirao = df.withColumn(\"datetime\", f.to_date(df.datetime)).\\\n",
    "    withColumn(\"home_goal\", df.home_goal.cast(IntegerType())).\\\n",
    "    withColumn(\"away_goal\", df.away_goal.cast(IntegerType()))"
   ]
  },
  {
   "cell_type": "code",
   "execution_count": 10,
   "id": "da445cae",
   "metadata": {},
   "outputs": [
    {
     "name": "stdout",
     "output_type": "stream",
     "text": [
      "root\n",
      " |-- datetime: date (nullable = true)\n",
      " |-- home_team: string (nullable = true)\n",
      " |-- home_team_state: string (nullable = true)\n",
      " |-- away_team: string (nullable = true)\n",
      " |-- away_team_state: string (nullable = true)\n",
      " |-- home_goal: integer (nullable = true)\n",
      " |-- away_goal: integer (nullable = true)\n",
      " |-- season: integer (nullable = true)\n",
      " |-- round: integer (nullable = true)\n",
      " |-- hash_id: string (nullable = true)\n",
      "\n"
     ]
    }
   ],
   "source": [
    "#Agora está tudo certo\n",
    "brasileirao.printSchema()"
   ]
  },
  {
   "cell_type": "code",
   "execution_count": 11,
   "id": "9fe3ac44",
   "metadata": {},
   "outputs": [],
   "source": [
    "# função para tirar o prefixo de estado dos times:\n",
    "\n",
    "brasileirao = brasileirao.withColumn(\n",
    "    \"home_team\",\n",
    "    f.expr(\"substring(home_team, 1, length(home_team) - 3)\"))\\\n",
    "    .withColumn(\"away_team\",\n",
    "               f.expr(\"substring(away_team, 1, length(away_team) - 3)\"))\n"
   ]
  },
  {
   "cell_type": "code",
   "execution_count": 12,
   "id": "0f571eed",
   "metadata": {},
   "outputs": [
    {
     "name": "stdout",
     "output_type": "stream",
     "text": [
      "+----------+-----------+---------------+----------+---------------+---------+---------+------+-----+----------------------------------------------------------------+\n",
      "|datetime  |home_team  |home_team_state|away_team |away_team_state|home_goal|away_goal|season|round|hash_id                                                         |\n",
      "+----------+-----------+---------------+----------+---------------+---------+---------+------+-----+----------------------------------------------------------------+\n",
      "|2012-05-19|Palmeiras  |SP             |Portuguesa|SP             |1        |1        |2012  |1    |962fe76aa393c46650935b55f592644752e860e9450824ae7623cd90de88e445|\n",
      "|2012-05-19|Sport      |PE             |Flamengo  |RJ             |1        |1        |2012  |1    |1d9c7f9ec9a118384723171a17a6d7c6809751770cb2a03d88d4119fa94686c8|\n",
      "|2012-05-19|Figueirense|SC             |Nautico   |PE             |2        |1        |2012  |1    |b4074aad67c39e35a2e689a3a3c3ca7e109500db50f99f5facf0c50352639676|\n",
      "|2012-05-20|Ponte Preta|SP             |Atletico  |MG             |0        |1        |2012  |1    |7609b77126b835b3ac2b1bde31b1e8dd66f1253221239dbbd704cb63ec7efff0|\n",
      "|2012-05-20|Corinthians|SP             |Fluminense|RJ             |0        |1        |2012  |1    |56e3228a60accfa0edc93648485e597bc2c2e80a75b0fb47638182093bd0e235|\n",
      "+----------+-----------+---------------+----------+---------------+---------+---------+------+-----+----------------------------------------------------------------+\n",
      "only showing top 5 rows\n",
      "\n"
     ]
    }
   ],
   "source": [
    "brasileirao.show(5,truncate=False)"
   ]
  },
  {
   "cell_type": "code",
   "execution_count": 14,
   "id": "b526522a",
   "metadata": {},
   "outputs": [],
   "source": [
    "#eu posso criar uma tabela dimensão com o nome dos times, id, e quantas vezes esse time foi campeão\n",
    "hasht = brasileirao.withColumn('hash_id', f.sha2(f.col('home_team'), 256))"
   ]
  },
  {
   "cell_type": "markdown",
   "id": "3847de1f",
   "metadata": {},
   "source": [
    "#### Criando uma nova\n",
    "\n",
    "Será criada uma nova coluna que apresenta se o time que joja em casa perdeu, ganhou ou se foi um empate"
   ]
  },
  {
   "cell_type": "code",
   "execution_count": 15,
   "id": "56e99276",
   "metadata": {},
   "outputs": [],
   "source": [
    "brasileirao = brasileirao.withColumn(\n",
    "        'results_thome',\n",
    "        f.when(f.col(\"home_goal\") > f.col(\"away_goal\"), \"ganhou\")\\\n",
    "        .when(f.col(\"home_goal\") < f.col(\"away_goal\"), \"perdeu\")\\\n",
    "        .otherwise(\"empate\"))\\\n",
    "        .withColumn(\"results_taway\", \n",
    "                   f.when(f.col(\"away_goal\") > f.col(\"home_goal\"), \"ganhou\")\\\n",
    "                   .when(f.col(\"away_goal\") < f.col(\"home_goal\"), \"perdeu\")\\\n",
    "                   .otherwise(\"empate\"))"
   ]
  },
  {
   "cell_type": "code",
   "execution_count": 24,
   "id": "b2078e43",
   "metadata": {},
   "outputs": [
    {
     "name": "stdout",
     "output_type": "stream",
     "text": [
      "+----------+-----------+----------+--------------------+-------------+\n",
      "|  datetime|  home_team| away_team|             hash_id|results_taway|\n",
      "+----------+-----------+----------+--------------------+-------------+\n",
      "|2012-05-19|  Palmeiras|Portuguesa|962fe76aa393c4665...|       empate|\n",
      "|2012-05-19|      Sport|  Flamengo|1d9c7f9ec9a118384...|       empate|\n",
      "|2012-05-19|Figueirense|   Nautico|b4074aad67c39e35a...|       perdeu|\n",
      "|2012-05-20|Ponte Preta|  Atletico|7609b77126b835b3a...|       ganhou|\n",
      "|2012-05-20|Corinthians|Fluminense|56e3228a60accfa0e...|       ganhou|\n",
      "+----------+-----------+----------+--------------------+-------------+\n",
      "only showing top 5 rows\n",
      "\n"
     ]
    }
   ],
   "source": [
    "brasileirao.select(\"datetime\", \"home_team\", \\\n",
    "                   \"away_team\", \"hash_id\", \"results_taway\").show(5, truncate=True)"
   ]
  },
  {
   "cell_type": "code",
   "execution_count": null,
   "id": "253e7a06",
   "metadata": {},
   "outputs": [],
   "source": []
  }
 ],
 "metadata": {
  "kernelspec": {
   "display_name": "Python 3 (ipykernel)",
   "language": "python",
   "name": "python3"
  },
  "language_info": {
   "codemirror_mode": {
    "name": "ipython",
    "version": 3
   },
   "file_extension": ".py",
   "mimetype": "text/x-python",
   "name": "python",
   "nbconvert_exporter": "python",
   "pygments_lexer": "ipython3",
   "version": "3.9.7"
  }
 },
 "nbformat": 4,
 "nbformat_minor": 5
}
